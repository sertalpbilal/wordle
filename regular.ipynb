{
 "cells": [
  {
   "cell_type": "code",
   "execution_count": 1,
   "metadata": {},
   "outputs": [],
   "source": [
    "def compare(word, solution):\n",
    "    response = 0\n",
    "    for w in range(len(word)):\n",
    "        response = response * 10\n",
    "        if word[w] == solution[w]:\n",
    "            response = response + 2\n",
    "        elif word[w] in solution:\n",
    "            response = response + 1\n",
    "    return response\n",
    "\n",
    "def get_sets(word, remaining):\n",
    "    combs = {}\n",
    "    for solution in remaining:\n",
    "        score = compare(word, solution)\n",
    "        combs.setdefault(score, [])\n",
    "        combs.setdefault(score, []).append(solution)\n",
    "    return combs\n",
    "\n",
    "def filter_set(remaining, word, response):\n",
    "    return [r for r in remaining if compare(word, r) == response]"
   ]
  },
  {
   "cell_type": "code",
   "execution_count": 2,
   "metadata": {},
   "outputs": [
    {
     "data": {
      "text/plain": [
       "['cigar', 'rebut', 'sissy', 'humph', 'awake']"
      ]
     },
     "execution_count": 2,
     "metadata": {},
     "output_type": "execute_result"
    }
   ],
   "source": [
    "with open(\"solutions.txt\") as f:\n",
    "    text = f.read()\n",
    "    solution_set = [i.replace('\"', '').replace(' ', '') for i in text.split(\",\")]\n",
    "solution_set[0:5]"
   ]
  },
  {
   "cell_type": "code",
   "execution_count": 3,
   "metadata": {},
   "outputs": [],
   "source": [
    "def get_best(s):\n",
    "    remaining = s\n",
    "    moves = s\n",
    "    score = []\n",
    "    for word in moves:\n",
    "        sets = get_sets(word, remaining)\n",
    "        score.append(max([len(i) for i in sets.values()]))\n",
    "    best_score = min(score)\n",
    "    best_index = score.index(best_score)\n",
    "    best_word = moves[best_index]\n",
    "    return best_score, best_index, best_word"
   ]
  },
  {
   "cell_type": "code",
   "execution_count": 4,
   "metadata": {},
   "outputs": [
    {
     "name": "stdout",
     "output_type": "stream",
     "text": [
      "Suggestion: arise Max Set Size: 168\n",
      "Response: 2200\n",
      "Suggestion: print Max Set Size: 7\n",
      "Response: 2220\n",
      "Suggestion: bring Max Set Size: 2\n",
      "Response: 2220\n",
      "Suggestion: drink Max Set Size: 1\n",
      "Response: 22222\n"
     ]
    }
   ],
   "source": [
    "remaining = solution_set\n",
    "for _ in range(6):\n",
    "    next = get_best(remaining)\n",
    "    print(f\"Suggestion: {next[2]} Max Set Size: {next[0]}\")\n",
    "    res = compare(next[2], 'drink')\n",
    "    print(f\"Response: {res}\")\n",
    "    if res == 22222:\n",
    "        break\n",
    "    remaining = filter_set(remaining, next[2], res)\n"
   ]
  }
 ],
 "metadata": {
  "interpreter": {
   "hash": "ee5cc6fef2d70a7e71ee3826687cbd150f18158e0b1eef11d4f4f92bb920e304"
  },
  "kernelspec": {
   "display_name": "Python 3.9.4 64-bit",
   "language": "python",
   "name": "python3"
  },
  "language_info": {
   "codemirror_mode": {
    "name": "ipython",
    "version": 3
   },
   "file_extension": ".py",
   "mimetype": "text/x-python",
   "name": "python",
   "nbconvert_exporter": "python",
   "pygments_lexer": "ipython3",
   "version": "3.9.4"
  },
  "orig_nbformat": 4
 },
 "nbformat": 4,
 "nbformat_minor": 2
}

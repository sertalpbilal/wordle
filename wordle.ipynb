{
 "cells": [
  {
   "cell_type": "code",
   "execution_count": 1,
   "metadata": {},
   "outputs": [],
   "source": [
    "from concurrent.futures import ProcessPoolExecutor, ThreadPoolExecutor\n",
    "from itertools import repeat"
   ]
  },
  {
   "cell_type": "code",
   "execution_count": 2,
   "metadata": {},
   "outputs": [
    {
     "data": {
      "text/plain": [
       "['cigar', 'rebut', 'sissy', 'humph', 'awake']"
      ]
     },
     "execution_count": 2,
     "metadata": {},
     "output_type": "execute_result"
    }
   ],
   "source": [
    "with open(\"solutions.txt\") as f:\n",
    "    text = f.read()\n",
    "    solution_set = [i.replace('\"', '').replace(' ', '') for i in text.split(\",\")]\n",
    "solution_set[0:5]"
   ]
  },
  {
   "cell_type": "code",
   "execution_count": 3,
   "metadata": {},
   "outputs": [
    {
     "data": {
      "text/plain": [
       "['aahed', 'aalii', 'aargh', 'aarti', 'abaca']"
      ]
     },
     "execution_count": 3,
     "metadata": {},
     "output_type": "execute_result"
    }
   ],
   "source": [
    "with open(\"nonsolutions.txt\") as f:\n",
    "    text = f.read()\n",
    "    nonsolution_set = [i.replace('\"', '').replace(' ', '') for i in text.split(\",\")]\n",
    "nonsolution_set[0:5]"
   ]
  },
  {
   "cell_type": "code",
   "execution_count": 4,
   "metadata": {},
   "outputs": [],
   "source": [
    "def get_response(guess, solution):\n",
    "    response = \"\"\n",
    "    for w in range(len(guess)):\n",
    "        if guess[w] == solution[w]:\n",
    "            response += \"2\"\n",
    "        elif guess[w] in solution:\n",
    "            response += \"1\"\n",
    "        else:\n",
    "            response += \"0\"\n",
    "    return response\n",
    "\n",
    "def get_possible_outcomes(guess, remaining):\n",
    "    responses = [[solution, get_response(guess, solution)] for solution in remaining]\n",
    "    outcomes = list(set(r[1] for r in responses))\n",
    "    outcomes_with_length = [[r, len([v for v in responses if v[1] == r])] for r in outcomes]\n",
    "    return outcomes_with_length\n",
    "\n",
    "def get_score(guess, remaining):\n",
    "    outcomes = get_possible_outcomes(guess, remaining)\n",
    "    max_set_size = max([v[1] for v in outcomes])\n",
    "    # print(outcomes)\n",
    "    return [guess, max_set_size]\n",
    "\n",
    "def get_best(remaining):\n",
    "    with ThreadPoolExecutor(max_workers=15) as executor:\n",
    "        word_scores = list(executor.map(get_score, remaining, repeat(remaining))) #  [[word, get_score(word, remaining)] for word in remaining]\n",
    "    scores = [entry[1] for entry in word_scores]\n",
    "    min_score = min(scores)\n",
    "    idx = scores.index(min_score)\n",
    "    return word_scores[idx][0]\n",
    "\n",
    "def filter_words(guess, remaining, response):\n",
    "    feasible_words = [i for i in remaining if get_response(guess, i) == response]\n",
    "    return feasible_words"
   ]
  },
  {
   "cell_type": "code",
   "execution_count": 5,
   "metadata": {},
   "outputs": [],
   "source": [
    "# get_best(solution_set)"
   ]
  },
  {
   "cell_type": "code",
   "execution_count": 6,
   "metadata": {},
   "outputs": [
    {
     "data": {
      "text/plain": [
       "['pried',\n",
       " 'grief',\n",
       " 'brief',\n",
       " 'crier',\n",
       " 'drier',\n",
       " 'tried',\n",
       " 'fried',\n",
       " 'cried',\n",
       " 'dried']"
      ]
     },
     "execution_count": 6,
     "metadata": {},
     "output_type": "execute_result"
    }
   ],
   "source": [
    "filter_words('arise', solution_set, '02201')"
   ]
  },
  {
   "cell_type": "code",
   "execution_count": 7,
   "metadata": {},
   "outputs": [],
   "source": [
    "small_set = ['pried',\n",
    " 'grief',\n",
    " 'brief',\n",
    " 'crier',\n",
    " 'drier',\n",
    " 'tried',\n",
    " 'fried',\n",
    " 'cried',\n",
    " 'dried']"
   ]
  },
  {
   "cell_type": "code",
   "execution_count": 8,
   "metadata": {},
   "outputs": [],
   "source": [
    "def recursive_best(remaining, ctr=1, debug=False):\n",
    "    ctr = int(ctr)\n",
    "    if len(remaining) == 1:\n",
    "        if debug: print('  '*ctr + f\"\\t\\t\\tReturning count {ctr} for {remaining[0]}\")\n",
    "        return remaining[0], ctr\n",
    "    \n",
    "    if ctr > 6:\n",
    "        return remaining[0], None\n",
    "\n",
    "    set_scores = []\n",
    "    for word in remaining:\n",
    "        set_score = get_score(word, remaining)\n",
    "        set_scores.append(set_score[1])\n",
    "    best_set_score = min(set_scores)\n",
    "    initial_filter = [set_scores[i] <= best_set_score * 1.5 for i in range(len(remaining))]\n",
    "\n",
    "    word_scores = []\n",
    "    for word_index, word in enumerate(remaining):\n",
    "        if ctr == 1:\n",
    "            print(f\"{word_index}/{len(remaining)}\")\n",
    "        if debug: print('  '*ctr + f\" Trying {word}\")\n",
    "        if initial_filter[word_index] == False:\n",
    "            word_scores.append(5)\n",
    "            continue\n",
    "        outcomes = get_possible_outcomes(word, remaining)\n",
    "        if debug: print('  '*ctr + \" Outcomes:\", outcomes)\n",
    "        total = sum(i[1] for i in outcomes) # count case sum\n",
    "        values = []\n",
    "        failed = False\n",
    "        for o in outcomes:\n",
    "            if debug: print('  '*ctr + f\"  Outcome {o[0]} with {o[1]} candidates\")\n",
    "            subset = filter_words(word, remaining, o[0])\n",
    "            if debug: print('  '*ctr + f\"  Remaining subset: {subset}\")\n",
    "            best_word, val = recursive_best(subset, ctr+1)\n",
    "            if val is None:\n",
    "                failed = True\n",
    "                break\n",
    "            values.append(val)\n",
    "        # probability times number of avg moves\n",
    "        if failed:\n",
    "            print(f\"Word {word} failed\")\n",
    "            word_scores.append(5)\n",
    "            continue\n",
    "        score = sum([outcomes[idx][1]/total * values[idx] for idx in range(len(outcomes))])\n",
    "        word_scores.append(score)\n",
    "    best_word_score = min(word_scores)\n",
    "    index = word_scores.index(best_word_score)\n",
    "    if debug:\n",
    "        for i in range(len(remaining)):\n",
    "            print(f\"Word {remaining[i]} score {word_scores[i]}\")\n",
    "    return remaining[index], best_word_score"
   ]
  },
  {
   "cell_type": "code",
   "execution_count": 9,
   "metadata": {},
   "outputs": [],
   "source": [
    "# word, avg_trial = recursive_best(solution_set[0:1000])\n",
    "# print(word, avg_trial)"
   ]
  },
  {
   "cell_type": "code",
   "execution_count": 10,
   "metadata": {},
   "outputs": [],
   "source": [
    "s = solution_set.copy() # Initialize"
   ]
  },
  {
   "cell_type": "code",
   "execution_count": 11,
   "metadata": {},
   "outputs": [
    {
     "data": {
      "text/plain": [
       "'arise'"
      ]
     },
     "execution_count": 11,
     "metadata": {},
     "output_type": "execute_result"
    }
   ],
   "source": [
    "get_best(s)"
   ]
  },
  {
   "cell_type": "code",
   "execution_count": 12,
   "metadata": {},
   "outputs": [],
   "source": [
    "s = filter_words('arise', s, '01001')"
   ]
  },
  {
   "cell_type": "code",
   "execution_count": 13,
   "metadata": {},
   "outputs": [
    {
     "data": {
      "text/plain": [
       "'outer'"
      ]
     },
     "execution_count": 13,
     "metadata": {},
     "output_type": "execute_result"
    }
   ],
   "source": [
    "get_best(s)"
   ]
  },
  {
   "cell_type": "code",
   "execution_count": 14,
   "metadata": {},
   "outputs": [],
   "source": [
    "s2 = filter_words('outer', s, '10022')"
   ]
  },
  {
   "cell_type": "code",
   "execution_count": 18,
   "metadata": {},
   "outputs": [
    {
     "data": {
      "text/plain": [
       "['wooer',\n",
       " 'goner',\n",
       " 'foyer',\n",
       " 'homer',\n",
       " 'power',\n",
       " 'poker',\n",
       " 'lover',\n",
       " 'rover',\n",
       " 'cover',\n",
       " 'joker',\n",
       " 'lower',\n",
       " 'boxer',\n",
       " 'hover',\n",
       " 'mover',\n",
       " 'cower',\n",
       " 'corer',\n",
       " 'mower',\n",
       " 'roger',\n",
       " 'rower']"
      ]
     },
     "execution_count": 18,
     "metadata": {},
     "output_type": "execute_result"
    }
   ],
   "source": [
    "s2"
   ]
  },
  {
   "cell_type": "code",
   "execution_count": 15,
   "metadata": {},
   "outputs": [
    {
     "data": {
      "text/plain": [
       "'cower'"
      ]
     },
     "execution_count": 15,
     "metadata": {},
     "output_type": "execute_result"
    }
   ],
   "source": [
    "get_best(s2)"
   ]
  },
  {
   "cell_type": "code",
   "execution_count": 16,
   "metadata": {},
   "outputs": [],
   "source": [
    "s3 = filter_words('cower', s2, '02222')"
   ]
  },
  {
   "cell_type": "code",
   "execution_count": 17,
   "metadata": {},
   "outputs": [
    {
     "data": {
      "text/plain": [
       "['power', 'lower', 'mower', 'rower']"
      ]
     },
     "execution_count": 17,
     "metadata": {},
     "output_type": "execute_result"
    }
   ],
   "source": [
    "s3"
   ]
  },
  {
   "cell_type": "code",
   "execution_count": null,
   "metadata": {},
   "outputs": [],
   "source": []
  }
 ],
 "metadata": {
  "interpreter": {
   "hash": "ee5cc6fef2d70a7e71ee3826687cbd150f18158e0b1eef11d4f4f92bb920e304"
  },
  "kernelspec": {
   "display_name": "Python 3.9.4 64-bit",
   "language": "python",
   "name": "python3"
  },
  "language_info": {
   "codemirror_mode": {
    "name": "ipython",
    "version": 3
   },
   "file_extension": ".py",
   "mimetype": "text/x-python",
   "name": "python",
   "nbconvert_exporter": "python",
   "pygments_lexer": "ipython3",
   "version": "3.9.4"
  },
  "orig_nbformat": 4
 },
 "nbformat": 4,
 "nbformat_minor": 2
}
